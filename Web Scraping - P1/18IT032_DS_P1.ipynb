{
  "nbformat": 4,
  "nbformat_minor": 0,
  "metadata": {
    "kernelspec": {
      "display_name": "Python 3",
      "language": "python",
      "name": "python3"
    },
    "language_info": {
      "codemirror_mode": {
        "name": "ipython",
        "version": 3
      },
      "file_extension": ".py",
      "mimetype": "text/x-python",
      "name": "python",
      "nbconvert_exporter": "python",
      "pygments_lexer": "ipython3",
      "version": "3.8.5"
    },
    "colab": {
      "name": "18IT032-DS-P1.ipynb",
      "provenance": [],
      "collapsed_sections": []
    }
  },
  "cells": [
    {
      "cell_type": "code",
      "metadata": {
        "colab": {
          "base_uri": "https://localhost:8080/"
        },
        "id": "R30QIeh5aZ7A",
        "outputId": "dad7717c-9169-46af-e59d-61181bcf32b5"
      },
      "source": [
        "pip install selenium"
      ],
      "execution_count": null,
      "outputs": [
        {
          "output_type": "stream",
          "name": "stdout",
          "text": [
            "Collecting selenium\n",
            "  Downloading selenium-3.141.0-py2.py3-none-any.whl (904 kB)\n",
            "\u001b[?25l\r\u001b[K     |▍                               | 10 kB 20.0 MB/s eta 0:00:01\r\u001b[K     |▊                               | 20 kB 25.9 MB/s eta 0:00:01\r\u001b[K     |█                               | 30 kB 29.7 MB/s eta 0:00:01\r\u001b[K     |█▌                              | 40 kB 19.8 MB/s eta 0:00:01\r\u001b[K     |█▉                              | 51 kB 8.2 MB/s eta 0:00:01\r\u001b[K     |██▏                             | 61 kB 9.5 MB/s eta 0:00:01\r\u001b[K     |██▌                             | 71 kB 8.6 MB/s eta 0:00:01\r\u001b[K     |███                             | 81 kB 9.5 MB/s eta 0:00:01\r\u001b[K     |███▎                            | 92 kB 7.5 MB/s eta 0:00:01\r\u001b[K     |███▋                            | 102 kB 7.8 MB/s eta 0:00:01\r\u001b[K     |████                            | 112 kB 7.8 MB/s eta 0:00:01\r\u001b[K     |████▍                           | 122 kB 7.8 MB/s eta 0:00:01\r\u001b[K     |████▊                           | 133 kB 7.8 MB/s eta 0:00:01\r\u001b[K     |█████                           | 143 kB 7.8 MB/s eta 0:00:01\r\u001b[K     |█████▍                          | 153 kB 7.8 MB/s eta 0:00:01\r\u001b[K     |█████▉                          | 163 kB 7.8 MB/s eta 0:00:01\r\u001b[K     |██████▏                         | 174 kB 7.8 MB/s eta 0:00:01\r\u001b[K     |██████▌                         | 184 kB 7.8 MB/s eta 0:00:01\r\u001b[K     |██████▉                         | 194 kB 7.8 MB/s eta 0:00:01\r\u001b[K     |███████▎                        | 204 kB 7.8 MB/s eta 0:00:01\r\u001b[K     |███████▋                        | 215 kB 7.8 MB/s eta 0:00:01\r\u001b[K     |████████                        | 225 kB 7.8 MB/s eta 0:00:01\r\u001b[K     |████████▎                       | 235 kB 7.8 MB/s eta 0:00:01\r\u001b[K     |████████▊                       | 245 kB 7.8 MB/s eta 0:00:01\r\u001b[K     |█████████                       | 256 kB 7.8 MB/s eta 0:00:01\r\u001b[K     |█████████▍                      | 266 kB 7.8 MB/s eta 0:00:01\r\u001b[K     |█████████▉                      | 276 kB 7.8 MB/s eta 0:00:01\r\u001b[K     |██████████▏                     | 286 kB 7.8 MB/s eta 0:00:01\r\u001b[K     |██████████▌                     | 296 kB 7.8 MB/s eta 0:00:01\r\u001b[K     |██████████▉                     | 307 kB 7.8 MB/s eta 0:00:01\r\u001b[K     |███████████▎                    | 317 kB 7.8 MB/s eta 0:00:01\r\u001b[K     |███████████▋                    | 327 kB 7.8 MB/s eta 0:00:01\r\u001b[K     |████████████                    | 337 kB 7.8 MB/s eta 0:00:01\r\u001b[K     |████████████▎                   | 348 kB 7.8 MB/s eta 0:00:01\r\u001b[K     |████████████▊                   | 358 kB 7.8 MB/s eta 0:00:01\r\u001b[K     |█████████████                   | 368 kB 7.8 MB/s eta 0:00:01\r\u001b[K     |█████████████▍                  | 378 kB 7.8 MB/s eta 0:00:01\r\u001b[K     |█████████████▊                  | 389 kB 7.8 MB/s eta 0:00:01\r\u001b[K     |██████████████▏                 | 399 kB 7.8 MB/s eta 0:00:01\r\u001b[K     |██████████████▌                 | 409 kB 7.8 MB/s eta 0:00:01\r\u001b[K     |██████████████▉                 | 419 kB 7.8 MB/s eta 0:00:01\r\u001b[K     |███████████████▏                | 430 kB 7.8 MB/s eta 0:00:01\r\u001b[K     |███████████████▋                | 440 kB 7.8 MB/s eta 0:00:01\r\u001b[K     |████████████████                | 450 kB 7.8 MB/s eta 0:00:01\r\u001b[K     |████████████████▎               | 460 kB 7.8 MB/s eta 0:00:01\r\u001b[K     |████████████████▋               | 471 kB 7.8 MB/s eta 0:00:01\r\u001b[K     |█████████████████               | 481 kB 7.8 MB/s eta 0:00:01\r\u001b[K     |█████████████████▍              | 491 kB 7.8 MB/s eta 0:00:01\r\u001b[K     |█████████████████▊              | 501 kB 7.8 MB/s eta 0:00:01\r\u001b[K     |██████████████████▏             | 512 kB 7.8 MB/s eta 0:00:01\r\u001b[K     |██████████████████▌             | 522 kB 7.8 MB/s eta 0:00:01\r\u001b[K     |██████████████████▉             | 532 kB 7.8 MB/s eta 0:00:01\r\u001b[K     |███████████████████▏            | 542 kB 7.8 MB/s eta 0:00:01\r\u001b[K     |███████████████████▋            | 552 kB 7.8 MB/s eta 0:00:01\r\u001b[K     |████████████████████            | 563 kB 7.8 MB/s eta 0:00:01\r\u001b[K     |████████████████████▎           | 573 kB 7.8 MB/s eta 0:00:01\r\u001b[K     |████████████████████▋           | 583 kB 7.8 MB/s eta 0:00:01\r\u001b[K     |█████████████████████           | 593 kB 7.8 MB/s eta 0:00:01\r\u001b[K     |█████████████████████▍          | 604 kB 7.8 MB/s eta 0:00:01\r\u001b[K     |█████████████████████▊          | 614 kB 7.8 MB/s eta 0:00:01\r\u001b[K     |██████████████████████          | 624 kB 7.8 MB/s eta 0:00:01\r\u001b[K     |██████████████████████▌         | 634 kB 7.8 MB/s eta 0:00:01\r\u001b[K     |██████████████████████▉         | 645 kB 7.8 MB/s eta 0:00:01\r\u001b[K     |███████████████████████▏        | 655 kB 7.8 MB/s eta 0:00:01\r\u001b[K     |███████████████████████▌        | 665 kB 7.8 MB/s eta 0:00:01\r\u001b[K     |████████████████████████        | 675 kB 7.8 MB/s eta 0:00:01\r\u001b[K     |████████████████████████▎       | 686 kB 7.8 MB/s eta 0:00:01\r\u001b[K     |████████████████████████▋       | 696 kB 7.8 MB/s eta 0:00:01\r\u001b[K     |█████████████████████████       | 706 kB 7.8 MB/s eta 0:00:01\r\u001b[K     |█████████████████████████▍      | 716 kB 7.8 MB/s eta 0:00:01\r\u001b[K     |█████████████████████████▊      | 727 kB 7.8 MB/s eta 0:00:01\r\u001b[K     |██████████████████████████      | 737 kB 7.8 MB/s eta 0:00:01\r\u001b[K     |██████████████████████████▍     | 747 kB 7.8 MB/s eta 0:00:01\r\u001b[K     |██████████████████████████▉     | 757 kB 7.8 MB/s eta 0:00:01\r\u001b[K     |███████████████████████████▏    | 768 kB 7.8 MB/s eta 0:00:01\r\u001b[K     |███████████████████████████▌    | 778 kB 7.8 MB/s eta 0:00:01\r\u001b[K     |████████████████████████████    | 788 kB 7.8 MB/s eta 0:00:01\r\u001b[K     |████████████████████████████▎   | 798 kB 7.8 MB/s eta 0:00:01\r\u001b[K     |████████████████████████████▋   | 808 kB 7.8 MB/s eta 0:00:01\r\u001b[K     |█████████████████████████████   | 819 kB 7.8 MB/s eta 0:00:01\r\u001b[K     |█████████████████████████████▍  | 829 kB 7.8 MB/s eta 0:00:01\r\u001b[K     |█████████████████████████████▊  | 839 kB 7.8 MB/s eta 0:00:01\r\u001b[K     |██████████████████████████████  | 849 kB 7.8 MB/s eta 0:00:01\r\u001b[K     |██████████████████████████████▍ | 860 kB 7.8 MB/s eta 0:00:01\r\u001b[K     |██████████████████████████████▉ | 870 kB 7.8 MB/s eta 0:00:01\r\u001b[K     |███████████████████████████████▏| 880 kB 7.8 MB/s eta 0:00:01\r\u001b[K     |███████████████████████████████▌| 890 kB 7.8 MB/s eta 0:00:01\r\u001b[K     |███████████████████████████████▉| 901 kB 7.8 MB/s eta 0:00:01\r\u001b[K     |████████████████████████████████| 904 kB 7.8 MB/s \n",
            "\u001b[?25hRequirement already satisfied: urllib3 in /usr/local/lib/python3.7/dist-packages (from selenium) (1.24.3)\n",
            "Installing collected packages: selenium\n",
            "Successfully installed selenium-3.141.0\n"
          ]
        }
      ]
    },
    {
      "cell_type": "code",
      "metadata": {
        "colab": {
          "base_uri": "https://localhost:8080/"
        },
        "id": "L1ALEy5oag02",
        "outputId": "e2b81d2d-2aef-4e5f-f9fc-4a28910785df"
      },
      "source": [
        "pip install BeautifulSoup\n"
      ],
      "execution_count": null,
      "outputs": [
        {
          "output_type": "stream",
          "name": "stdout",
          "text": [
            "Collecting BeautifulSoup\n",
            "  Downloading BeautifulSoup-3.2.2.tar.gz (32 kB)\n",
            "\u001b[33mWARNING: Discarding https://files.pythonhosted.org/packages/40/f2/6c9f2f3e696ee6a1fb0e4d7850617e224ed2b0b1e872110abffeca2a09d4/BeautifulSoup-3.2.2.tar.gz#sha256=a04169602bff6e3138b1259dbbf491f5a27f9499dea9a8fbafd48843f9d89970 (from https://pypi.org/simple/beautifulsoup/). Command errored out with exit status 1: python setup.py egg_info Check the logs for full command output.\u001b[0m\n",
            "  Downloading BeautifulSoup-3.2.1.tar.gz (31 kB)\n",
            "\u001b[33mWARNING: Discarding https://files.pythonhosted.org/packages/1e/ee/295988deca1a5a7accd783d0dfe14524867e31abb05b6c0eeceee49c759d/BeautifulSoup-3.2.1.tar.gz#sha256=6a8cb4401111e011b579c8c52a51cdab970041cc543814bbd9577a4529fe1cdb (from https://pypi.org/simple/beautifulsoup/). Command errored out with exit status 1: python setup.py egg_info Check the logs for full command output.\u001b[0m\n",
            "  Downloading BeautifulSoup-3.2.0.tar.gz (31 kB)\n",
            "\u001b[33mWARNING: Discarding https://files.pythonhosted.org/packages/33/fe/15326560884f20d792d3ffc7fe8f639aab88647c9d46509a240d9bfbb6b1/BeautifulSoup-3.2.0.tar.gz#sha256=0dc52d07516c1665c9dd9f0a390a7a054bfb7b147a50b2866fb116b8909dfd37 (from https://pypi.org/simple/beautifulsoup/). Command errored out with exit status 1: python setup.py egg_info Check the logs for full command output.\u001b[0m\n",
            "\u001b[31mERROR: Could not find a version that satisfies the requirement BeautifulSoup (from versions: 3.2.0, 3.2.1, 3.2.2)\u001b[0m\n",
            "\u001b[31mERROR: No matching distribution found for BeautifulSoup\u001b[0m\n"
          ]
        }
      ]
    },
    {
      "cell_type": "code",
      "metadata": {
        "id": "7_RnSeiYZu1s"
      },
      "source": [
        "from selenium import webdriver\n",
        "from bs4 import BeautifulSoup\n",
        "import pandas as pd\n",
        "import requests"
      ],
      "execution_count": null,
      "outputs": []
    },
    {
      "cell_type": "code",
      "metadata": {
        "id": "lVYJ-pkEZu1u"
      },
      "source": [
        "url=\"https://www.flipkart.com/search?q=phones&otracker=search&otracker1=search&marketplace=FLIPKART&as-show=on&as=off\"\n",
        "response = requests.get(url)\n",
        "htmlcontent = response.content\n",
        "soup = BeautifulSoup(htmlcontent,\"html.parser\")"
      ],
      "execution_count": null,
      "outputs": []
    },
    {
      "cell_type": "code",
      "metadata": {
        "colab": {
          "base_uri": "https://localhost:8080/"
        },
        "id": "_dK-m43dZu1v",
        "outputId": "32db1825-e490-41d9-929c-d4e4b83e5245"
      },
      "source": [
        "products=[]\n",
        "prices=[]\n",
        "product=soup.find('div',attrs={'class':'_4rR01T'})\n",
        "print(product.text)"
      ],
      "execution_count": null,
      "outputs": [
        {
          "output_type": "stream",
          "name": "stdout",
          "text": [
            "realme C20 (Cool Grey, 32 GB)\n"
          ]
        }
      ]
    },
    {
      "cell_type": "code",
      "metadata": {
        "id": "-IpNBiXUZu1x"
      },
      "source": [
        "for a in soup.findAll('a', attrs={'class':'_1fQZEK'}):\n",
        "  name=a.find('div',attrs={'class':'_4rR01T'})\n",
        "  price=a.find('div',attrs={'class':'_30jeq3 _1_WHN1'})\n",
        "  products.append(name.text)\n",
        "  prices.append(price.text)"
      ],
      "execution_count": null,
      "outputs": []
    },
    {
      "cell_type": "code",
      "metadata": {
        "colab": {
          "base_uri": "https://localhost:8080/",
          "height": 202
        },
        "id": "yQAfBk-8Zu1y",
        "outputId": "debb6a8c-9a33-4390-ed5b-3e21457ea5b5"
      },
      "source": [
        "finalPrice=[]\n",
        "for i in prices:\n",
        "    i=i[1:]\n",
        "    finalPrice.append(i)\n",
        "df = pd.DataFrame({'Product Name':products,'Price':finalPrice})\n",
        "df.head()"
      ],
      "execution_count": null,
      "outputs": [
        {
          "output_type": "execute_result",
          "data": {
            "text/html": [
              "<div>\n",
              "<style scoped>\n",
              "    .dataframe tbody tr th:only-of-type {\n",
              "        vertical-align: middle;\n",
              "    }\n",
              "\n",
              "    .dataframe tbody tr th {\n",
              "        vertical-align: top;\n",
              "    }\n",
              "\n",
              "    .dataframe thead th {\n",
              "        text-align: right;\n",
              "    }\n",
              "</style>\n",
              "<table border=\"1\" class=\"dataframe\">\n",
              "  <thead>\n",
              "    <tr style=\"text-align: right;\">\n",
              "      <th></th>\n",
              "      <th>Product Name</th>\n",
              "      <th>Price</th>\n",
              "    </tr>\n",
              "  </thead>\n",
              "  <tbody>\n",
              "    <tr>\n",
              "      <th>0</th>\n",
              "      <td>realme C20 (Cool Grey, 32 GB)</td>\n",
              "      <td>7,499</td>\n",
              "    </tr>\n",
              "    <tr>\n",
              "      <th>1</th>\n",
              "      <td>realme C20 (Cool Blue, 32 GB)</td>\n",
              "      <td>7,499</td>\n",
              "    </tr>\n",
              "    <tr>\n",
              "      <th>2</th>\n",
              "      <td>POCO M3 (Power Black, 64 GB)</td>\n",
              "      <td>11,499</td>\n",
              "    </tr>\n",
              "    <tr>\n",
              "      <th>3</th>\n",
              "      <td>SAMSUNG Galaxy S21 Ultra (Phantom Silver, 256 GB)</td>\n",
              "      <td>1,05,999</td>\n",
              "    </tr>\n",
              "    <tr>\n",
              "      <th>4</th>\n",
              "      <td>POCO C3 (Arctic Blue, 64 GB)</td>\n",
              "      <td>8,499</td>\n",
              "    </tr>\n",
              "  </tbody>\n",
              "</table>\n",
              "</div>"
            ],
            "text/plain": [
              "                                        Product Name     Price\n",
              "0                      realme C20 (Cool Grey, 32 GB)     7,499\n",
              "1                      realme C20 (Cool Blue, 32 GB)     7,499\n",
              "2                       POCO M3 (Power Black, 64 GB)    11,499\n",
              "3  SAMSUNG Galaxy S21 Ultra (Phantom Silver, 256 GB)  1,05,999\n",
              "4                       POCO C3 (Arctic Blue, 64 GB)     8,499"
            ]
          },
          "metadata": {},
          "execution_count": 9
        }
      ]
    },
    {
      "cell_type": "code",
      "metadata": {
        "id": "EwmpWGXIZu1y",
        "outputId": "4a210157-f58e-4b12-ec04-db35f67d17c0"
      },
      "source": [
        ""
      ],
      "execution_count": null,
      "outputs": [
        {
          "data": {
            "text/html": [
              "<div>\n",
              "<style scoped>\n",
              "    .dataframe tbody tr th:only-of-type {\n",
              "        vertical-align: middle;\n",
              "    }\n",
              "\n",
              "    .dataframe tbody tr th {\n",
              "        vertical-align: top;\n",
              "    }\n",
              "\n",
              "    .dataframe thead th {\n",
              "        text-align: right;\n",
              "    }\n",
              "</style>\n",
              "<table border=\"1\" class=\"dataframe\">\n",
              "  <thead>\n",
              "    <tr style=\"text-align: right;\">\n",
              "      <th></th>\n",
              "      <th>Product Name</th>\n",
              "      <th>Prices</th>\n",
              "    </tr>\n",
              "  </thead>\n",
              "  <tbody>\n",
              "    <tr>\n",
              "      <th>0</th>\n",
              "      <td>realme C20 (Cool Blue, 32 GB)</td>\n",
              "      <td>6,999</td>\n",
              "    </tr>\n",
              "    <tr>\n",
              "      <th>1</th>\n",
              "      <td>realme C20 (Cool Grey, 32 GB)</td>\n",
              "      <td>6,999</td>\n",
              "    </tr>\n",
              "    <tr>\n",
              "      <th>2</th>\n",
              "      <td>REDMI 9i (Nature Green, 64 GB)</td>\n",
              "      <td>8,299</td>\n",
              "    </tr>\n",
              "    <tr>\n",
              "      <th>3</th>\n",
              "      <td>POCO M3 (Power Black, 64 GB)</td>\n",
              "      <td>11,499</td>\n",
              "    </tr>\n",
              "    <tr>\n",
              "      <th>4</th>\n",
              "      <td>POCO M3 (Power Black, 64 GB)</td>\n",
              "      <td>10,499</td>\n",
              "    </tr>\n",
              "  </tbody>\n",
              "</table>\n",
              "</div>"
            ],
            "text/plain": [
              "                     Product Name  Prices\n",
              "0   realme C20 (Cool Blue, 32 GB)   6,999\n",
              "1   realme C20 (Cool Grey, 32 GB)   6,999\n",
              "2  REDMI 9i (Nature Green, 64 GB)   8,299\n",
              "3    POCO M3 (Power Black, 64 GB)  11,499\n",
              "4    POCO M3 (Power Black, 64 GB)  10,499"
            ]
          },
          "execution_count": 15,
          "metadata": {},
          "output_type": "execute_result"
        }
      ]
    },
    {
      "cell_type": "code",
      "metadata": {
        "id": "1JSoU2qhZu1z"
      },
      "source": [
        "df.to_csv('products-details.csv', index=False, encoding='utf-8')"
      ],
      "execution_count": null,
      "outputs": []
    }
  ]
}