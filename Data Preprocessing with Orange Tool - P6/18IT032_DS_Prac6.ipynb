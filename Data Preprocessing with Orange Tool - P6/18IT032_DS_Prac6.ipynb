{
  "nbformat": 4,
  "nbformat_minor": 0,
  "metadata": {
    "colab": {
      "name": "18IT032_DS_Prac6.ipynb",
      "provenance": []
    },
    "kernelspec": {
      "name": "python3",
      "display_name": "Python 3"
    },
    "language_info": {
      "name": "python"
    }
  },
  "cells": [
    {
      "cell_type": "code",
      "metadata": {
        "colab": {
          "base_uri": "https://localhost:8080/"
        },
        "id": "y5CHQcByTn4o",
        "outputId": "8d6a5ba5-f7d7-42f2-c61c-1511c17c214e"
      },
      "source": [
        "pip install Orange3"
      ],
      "execution_count": 2,
      "outputs": [
        {
          "output_type": "stream",
          "name": "stdout",
          "text": [
            "Collecting Orange3\n",
            "  Downloading Orange3-3.29.3-cp37-cp37m-manylinux_2_5_x86_64.manylinux1_x86_64.whl (25.3 MB)\n",
            "\u001b[K     |████████████████████████████████| 25.3 MB 97 kB/s \n",
            "\u001b[?25hRequirement already satisfied: openpyxl in /usr/local/lib/python3.7/dist-packages (from Orange3) (2.5.9)\n",
            "Requirement already satisfied: setuptools>=36.3 in /usr/local/lib/python3.7/dist-packages (from Orange3) (57.4.0)\n",
            "Requirement already satisfied: requests in /usr/local/lib/python3.7/dist-packages (from Orange3) (2.23.0)\n",
            "Requirement already satisfied: pip>=9.0 in /usr/local/lib/python3.7/dist-packages (from Orange3) (21.1.3)\n",
            "Collecting orange-widget-base>=4.13.0\n",
            "  Downloading orange_widget_base-4.13.1-py3-none-any.whl (251 kB)\n",
            "\u001b[K     |████████████████████████████████| 251 kB 91.2 MB/s \n",
            "\u001b[?25hRequirement already satisfied: pyyaml in /usr/local/lib/python3.7/dist-packages (from Orange3) (3.13)\n",
            "Collecting PyQt5!=5.15.1,>=5.12\n",
            "  Downloading PyQt5-5.15.4-cp36.cp37.cp38.cp39-abi3-manylinux2014_x86_64.whl (8.3 MB)\n",
            "\u001b[K     |████████████████████████████████| 8.3 MB 64.3 MB/s \n",
            "\u001b[?25hCollecting PyQtWebEngine>=5.12\n",
            "  Downloading PyQtWebEngine-5.15.4-cp36.cp37.cp38.cp39-abi3-manylinux2014_x86_64.whl (229 kB)\n",
            "\u001b[K     |████████████████████████████████| 229 kB 95.4 MB/s \n",
            "\u001b[?25hRequirement already satisfied: chardet>=3.0.2 in /usr/local/lib/python3.7/dist-packages (from Orange3) (3.0.4)\n",
            "Requirement already satisfied: scipy>=0.16.1 in /usr/local/lib/python3.7/dist-packages (from Orange3) (1.4.1)\n",
            "Collecting keyrings.alt\n",
            "  Downloading keyrings.alt-4.1.0-py3-none-any.whl (20 kB)\n",
            "Collecting AnyQt>=0.0.11\n",
            "  Downloading AnyQt-0.0.13-py3-none-any.whl (47 kB)\n",
            "\u001b[K     |████████████████████████████████| 47 kB 3.5 MB/s \n",
            "\u001b[?25hCollecting keyring\n",
            "  Downloading keyring-23.2.1-py3-none-any.whl (33 kB)\n",
            "Collecting orange-canvas-core<0.2a,>=0.1.21\n",
            "  Downloading orange_canvas_core-0.1.22-py3-none-any.whl (489 kB)\n",
            "\u001b[K     |████████████████████████████████| 489 kB 87.6 MB/s \n",
            "\u001b[?25hCollecting httpx<0.17,>=0.14.0\n",
            "  Downloading httpx-0.16.1-py3-none-any.whl (65 kB)\n",
            "\u001b[K     |████████████████████████████████| 65 kB 3.3 MB/s \n",
            "\u001b[?25hCollecting pyqtgraph>=0.11.1\n",
            "  Downloading pyqtgraph-0.12.2-py3-none-any.whl (959 kB)\n",
            "\u001b[K     |████████████████████████████████| 959 kB 90.3 MB/s \n",
            "\u001b[?25hRequirement already satisfied: python-louvain>=0.13 in /usr/local/lib/python3.7/dist-packages (from Orange3) (0.15)\n",
            "Collecting baycomp>=1.0.2\n",
            "  Downloading baycomp-1.0.2-py3-none-any.whl (17 kB)\n",
            "Collecting openTSNE>=0.6.0\n",
            "  Downloading openTSNE-0.6.0-cp37-cp37m-manylinux2010_x86_64.whl (2.3 MB)\n",
            "\u001b[K     |████████████████████████████████| 2.3 MB 28.4 MB/s \n",
            "\u001b[?25hRequirement already satisfied: scikit-learn!=0.23.0,>=0.22.0 in /usr/local/lib/python3.7/dist-packages (from Orange3) (0.22.2.post1)\n",
            "Collecting serverfiles\n",
            "  Downloading serverfiles-0.3.1.tar.gz (11 kB)\n",
            "Requirement already satisfied: joblib>=0.9.4 in /usr/local/lib/python3.7/dist-packages (from Orange3) (1.0.1)\n",
            "Collecting xlsxwriter\n",
            "  Downloading XlsxWriter-3.0.1-py3-none-any.whl (148 kB)\n",
            "\u001b[K     |████████████████████████████████| 148 kB 70.5 MB/s \n",
            "\u001b[?25hRequirement already satisfied: numpy>=1.16.0 in /usr/local/lib/python3.7/dist-packages (from Orange3) (1.19.5)\n",
            "Requirement already satisfied: xlrd>=0.9.2 in /usr/local/lib/python3.7/dist-packages (from Orange3) (1.1.0)\n",
            "Requirement already satisfied: networkx in /usr/local/lib/python3.7/dist-packages (from Orange3) (2.6.2)\n",
            "Requirement already satisfied: matplotlib>=2.0.0 in /usr/local/lib/python3.7/dist-packages (from Orange3) (3.2.2)\n",
            "Requirement already satisfied: pandas>=1.0.0 in /usr/local/lib/python3.7/dist-packages (from Orange3) (1.1.5)\n",
            "Requirement already satisfied: bottleneck>=1.0.0 in /usr/local/lib/python3.7/dist-packages (from Orange3) (1.3.2)\n",
            "Collecting rfc3986[idna2008]<2,>=1.3\n",
            "  Downloading rfc3986-1.5.0-py2.py3-none-any.whl (31 kB)\n",
            "Collecting sniffio\n",
            "  Downloading sniffio-1.2.0-py3-none-any.whl (10 kB)\n",
            "Collecting httpcore==0.12.*\n",
            "  Downloading httpcore-0.12.3-py3-none-any.whl (55 kB)\n",
            "\u001b[K     |████████████████████████████████| 55 kB 3.0 MB/s \n",
            "\u001b[?25hRequirement already satisfied: certifi in /usr/local/lib/python3.7/dist-packages (from httpx<0.17,>=0.14.0->Orange3) (2021.5.30)\n",
            "Collecting h11==0.*\n",
            "  Downloading h11-0.12.0-py3-none-any.whl (54 kB)\n",
            "\u001b[K     |████████████████████████████████| 54 kB 2.8 MB/s \n",
            "\u001b[?25hRequirement already satisfied: kiwisolver>=1.0.1 in /usr/local/lib/python3.7/dist-packages (from matplotlib>=2.0.0->Orange3) (1.3.1)\n",
            "Requirement already satisfied: cycler>=0.10 in /usr/local/lib/python3.7/dist-packages (from matplotlib>=2.0.0->Orange3) (0.10.0)\n",
            "Requirement already satisfied: python-dateutil>=2.1 in /usr/local/lib/python3.7/dist-packages (from matplotlib>=2.0.0->Orange3) (2.8.2)\n",
            "Requirement already satisfied: pyparsing!=2.0.4,!=2.1.2,!=2.1.6,>=2.0.1 in /usr/local/lib/python3.7/dist-packages (from matplotlib>=2.0.0->Orange3) (2.4.7)\n",
            "Requirement already satisfied: six in /usr/local/lib/python3.7/dist-packages (from cycler>=0.10->matplotlib>=2.0.0->Orange3) (1.15.0)\n",
            "Collecting qasync\n",
            "  Downloading qasync-0.21.0-py3-none-any.whl (14 kB)\n",
            "Requirement already satisfied: importlib-metadata in /usr/local/lib/python3.7/dist-packages (from orange-canvas-core<0.2a,>=0.1.21->Orange3) (4.6.4)\n",
            "Collecting commonmark>=0.8.1\n",
            "  Downloading commonmark-0.9.1-py2.py3-none-any.whl (51 kB)\n",
            "\u001b[K     |████████████████████████████████| 51 kB 5.4 MB/s \n",
            "\u001b[?25hRequirement already satisfied: docutils in /usr/local/lib/python3.7/dist-packages (from orange-canvas-core<0.2a,>=0.1.21->Orange3) (0.17.1)\n",
            "Collecting dictdiffer\n",
            "  Downloading dictdiffer-0.9.0-py2.py3-none-any.whl (16 kB)\n",
            "Requirement already satisfied: cachecontrol[filecache] in /usr/local/lib/python3.7/dist-packages (from orange-canvas-core<0.2a,>=0.1.21->Orange3) (0.12.6)\n",
            "Requirement already satisfied: typing-extensions>=3.7.4.3 in /usr/local/lib/python3.7/dist-packages (from orange-widget-base>=4.13.0->Orange3) (3.7.4.3)\n",
            "Requirement already satisfied: pytz>=2017.2 in /usr/local/lib/python3.7/dist-packages (from pandas>=1.0.0->Orange3) (2018.9)\n",
            "Collecting PyQt5-Qt5>=5.15\n",
            "  Downloading PyQt5_Qt5-5.15.2-py3-none-manylinux2014_x86_64.whl (59.9 MB)\n",
            "\u001b[K     |████████████████████████████████| 59.9 MB 47 kB/s \n",
            "\u001b[?25hCollecting PyQt5-sip<13,>=12.8\n",
            "  Downloading PyQt5_sip-12.9.0-cp37-cp37m-manylinux1_x86_64.whl (317 kB)\n",
            "\u001b[K     |████████████████████████████████| 317 kB 73.2 MB/s \n",
            "\u001b[?25hCollecting PyQtWebEngine-Qt5>=5.15\n",
            "  Downloading PyQtWebEngine_Qt5-5.15.2-py3-none-manylinux2014_x86_64.whl (67.5 MB)\n",
            "\u001b[K     |████████████████████████████████| 67.5 MB 34 kB/s \n",
            "\u001b[?25hRequirement already satisfied: idna in /usr/local/lib/python3.7/dist-packages (from rfc3986[idna2008]<2,>=1.3->httpx<0.17,>=0.14.0->Orange3) (2.10)\n",
            "Requirement already satisfied: msgpack>=0.5.2 in /usr/local/lib/python3.7/dist-packages (from cachecontrol[filecache]->orange-canvas-core<0.2a,>=0.1.21->Orange3) (1.0.2)\n",
            "Collecting lockfile>=0.9\n",
            "  Downloading lockfile-0.12.2-py2.py3-none-any.whl (13 kB)\n",
            "Requirement already satisfied: zipp>=0.5 in /usr/local/lib/python3.7/dist-packages (from importlib-metadata->orange-canvas-core<0.2a,>=0.1.21->Orange3) (3.5.0)\n",
            "Collecting SecretStorage>=3.2\n",
            "  Downloading SecretStorage-3.3.1-py3-none-any.whl (15 kB)\n",
            "Collecting jeepney>=0.4.2\n",
            "  Downloading jeepney-0.7.1-py3-none-any.whl (54 kB)\n",
            "\u001b[K     |████████████████████████████████| 54 kB 2.1 MB/s \n",
            "\u001b[?25hCollecting cryptography>=2.0\n",
            "  Downloading cryptography-3.4.8-cp36-abi3-manylinux_2_24_x86_64.whl (3.0 MB)\n",
            "\u001b[K     |████████████████████████████████| 3.0 MB 69.5 MB/s \n",
            "\u001b[?25hRequirement already satisfied: cffi>=1.12 in /usr/local/lib/python3.7/dist-packages (from cryptography>=2.0->SecretStorage>=3.2->keyring->Orange3) (1.14.6)\n",
            "Requirement already satisfied: pycparser in /usr/local/lib/python3.7/dist-packages (from cffi>=1.12->cryptography>=2.0->SecretStorage>=3.2->keyring->Orange3) (2.20)\n",
            "Requirement already satisfied: jdcal in /usr/local/lib/python3.7/dist-packages (from openpyxl->Orange3) (1.4.1)\n",
            "Requirement already satisfied: et-xmlfile in /usr/local/lib/python3.7/dist-packages (from openpyxl->Orange3) (1.1.0)\n",
            "Requirement already satisfied: urllib3!=1.25.0,!=1.25.1,<1.26,>=1.21.1 in /usr/local/lib/python3.7/dist-packages (from requests->Orange3) (1.24.3)\n",
            "Building wheels for collected packages: serverfiles\n",
            "  Building wheel for serverfiles (setup.py) ... \u001b[?25l\u001b[?25hdone\n",
            "  Created wheel for serverfiles: filename=serverfiles-0.3.1-py3-none-any.whl size=6947 sha256=b56563882780388ce8ea43e29eb824a35e83a864f81f46f0c110562881ed44c8\n",
            "  Stored in directory: /root/.cache/pip/wheels/f4/36/15/fcfe21874746d5cd17c18b1e5501fbf86544da90d4ab6afe17\n",
            "Successfully built serverfiles\n",
            "Installing collected packages: lockfile, sniffio, rfc3986, qasync, PyQt5-sip, PyQt5-Qt5, jeepney, h11, dictdiffer, cryptography, commonmark, AnyQt, SecretStorage, PyQtWebEngine-Qt5, pyqtgraph, PyQt5, orange-canvas-core, httpcore, xlsxwriter, serverfiles, PyQtWebEngine, orange-widget-base, openTSNE, keyrings.alt, keyring, httpx, baycomp, Orange3\n",
            "Successfully installed AnyQt-0.0.13 Orange3-3.29.3 PyQt5-5.15.4 PyQt5-Qt5-5.15.2 PyQt5-sip-12.9.0 PyQtWebEngine-5.15.4 PyQtWebEngine-Qt5-5.15.2 SecretStorage-3.3.1 baycomp-1.0.2 commonmark-0.9.1 cryptography-3.4.8 dictdiffer-0.9.0 h11-0.12.0 httpcore-0.12.3 httpx-0.16.1 jeepney-0.7.1 keyring-23.2.1 keyrings.alt-4.1.0 lockfile-0.12.2 openTSNE-0.6.0 orange-canvas-core-0.1.22 orange-widget-base-4.13.1 pyqtgraph-0.12.2 qasync-0.21.0 rfc3986-1.5.0 serverfiles-0.3.1 sniffio-1.2.0 xlsxwriter-3.0.1\n"
          ]
        }
      ]
    },
    {
      "cell_type": "code",
      "metadata": {
        "colab": {
          "base_uri": "https://localhost:8080/"
        },
        "id": "LbvOfehiVCi8",
        "outputId": "70d2004b-1710-4db0-df4d-e174879fc4c7"
      },
      "source": [
        "import Orange\n",
        "\n",
        "#discretization\n",
        "heartDisease = Orange.data.Table('heart_disease.tab')\n",
        "disc = Orange.preprocess.Discretize()\n",
        "disc.method = Orange.preprocess.discretize.EqualFreq(n=3)\n",
        "d_heart_disease = disc(heartDisease)\n",
        "\n",
        "print(\"Original dataset:\")\n",
        "for e in heartDisease[:3]:\n",
        "    print(e)\n",
        "\n",
        "print(\"Discretized dataset:\")\n",
        "for e in d_heart_disease[:3]:\n",
        "    print(e)"
      ],
      "execution_count": 5,
      "outputs": [
        {
          "output_type": "stream",
          "name": "stdout",
          "text": [
            "Original dataset:\n",
            "[63, male, typical ang, 145, 233, 1, left vent hypertrophy, 150, 0, 2.3, downsloping, 0, fixed defect | 0]\n",
            "[67, male, asymptomatic, 160, 286, 0, left vent hypertrophy, 108, 1, 1.5, flat, 3, normal | 1]\n",
            "[67, male, asymptomatic, 120, 229, 0, left vent hypertrophy, 129, 1, 2.6, flat, 2, reversable defect | 1]\n",
            "Discretized dataset:\n",
            "[≥ 58.5, male, typical ang, ≥ 139, 221.5 - 263.5, 1, left vent hypertrophy, 142.5 - 161.5, 0, ≥ 1.35, downsloping, < 0.5, fixed defect | 0]\n",
            "[≥ 58.5, male, asymptomatic, ≥ 139, ≥ 263.5, 0, left vent hypertrophy, < 142.5, 1, ≥ 1.35, flat, ≥ 1.5, normal | 1]\n",
            "[≥ 58.5, male, asymptomatic, < 122.5, 221.5 - 263.5, 0, left vent hypertrophy, < 142.5, 1, ≥ 1.35, flat, ≥ 1.5, reversable defect | 1]\n"
          ]
        }
      ]
    },
    {
      "cell_type": "code",
      "metadata": {
        "colab": {
          "base_uri": "https://localhost:8080/"
        },
        "id": "hOwNxxlsWtY8",
        "outputId": "8ae9c3c7-c69d-47dd-cb65-af57fb5ca88a"
      },
      "source": [
        "#continuization\n",
        "titanic = Orange.data.Table(\"titanic\")\n",
        "continuizer = Orange.preprocess.Continuize()\n",
        "titanic1 = continuizer(titanic)\n",
        "\n",
        "print('before continuization',titanic.domain)\n",
        "print('after continuization',titanic1.domain)\n",
        "\n",
        "print('7th row of data before : ',titanic[7])\n",
        "print('7th row of data after : ',titanic1[7])"
      ],
      "execution_count": 7,
      "outputs": [
        {
          "output_type": "stream",
          "name": "stdout",
          "text": [
            "before continuization [status, age, sex | survived]\n",
            "after continuization [status=crew, status=first, status=second, status=third, age=adult, age=child, sex=female, sex=male | survived]\n",
            "7th row of data before :  [first, adult, male | yes]\n",
            "7th row of data after :  [0, 1, 0, 0, 1, 0, 0, 1 | yes]\n"
          ]
        }
      ]
    },
    {
      "cell_type": "code",
      "metadata": {
        "colab": {
          "base_uri": "https://localhost:8080/"
        },
        "id": "2UOYujZ4XsNs",
        "outputId": "1e13dc2d-c922-4e62-b669-c2c07297db99"
      },
      "source": [
        "#normalization\n",
        "from Orange.preprocess import Normalize\n",
        "normalizer = Normalize(norm_type=Normalize.NormalizeBySpan)\n",
        "normalized_data = normalizer(heartDisease)\n",
        "print(\"Before Normalization: \",heartDisease[2])\n",
        "print(\"After noramlization: \",normalized_data[2])"
      ],
      "execution_count": 8,
      "outputs": [
        {
          "output_type": "stream",
          "name": "stdout",
          "text": [
            "Before Normalization:  [67, male, asymptomatic, 120, 229, 0, left vent hypertrophy, 129, 1, 2.6, flat, 2, reversable defect | 1]\n",
            "After noramlization:  [0.7917, male, asymptomatic, 0.24528, 0.23516, 0, left vent hypertrophy, 0.44275, 1, 0.4194, flat, 0.667, reversable defect | 1]\n"
          ]
        }
      ]
    },
    {
      "cell_type": "code",
      "metadata": {
        "colab": {
          "base_uri": "https://localhost:8080/"
        },
        "id": "1R6Tt0kDX_xo",
        "outputId": "21001009-b465-4008-cd41-4ec595956d1d"
      },
      "source": [
        "#randomization\n",
        "from Orange.preprocess import Randomize\n",
        "randomizer = Randomize(Randomize.RandomizeClasses)\n",
        "randomized_data = randomizer(heartDisease)\n",
        "print(\"Before Randomization: \",heartDisease[2])\n",
        "print(\"After Randomization: \",randomized_data[2])"
      ],
      "execution_count": 9,
      "outputs": [
        {
          "output_type": "stream",
          "name": "stdout",
          "text": [
            "Before Randomization:  [67, male, asymptomatic, 120, 229, 0, left vent hypertrophy, 129, 1, 2.6, flat, 2, reversable defect | 1]\n",
            "After Randomization:  [67, male, asymptomatic, 120, 229, 0, left vent hypertrophy, 129, 1, 2.6, flat, 2, reversable defect | 1]\n"
          ]
        }
      ]
    }
  ]
}